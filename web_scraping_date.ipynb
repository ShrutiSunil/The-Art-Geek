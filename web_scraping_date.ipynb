{
 "cells": [
  {
   "cell_type": "code",
   "execution_count": 176,
   "metadata": {
    "collapsed": true
   },
   "outputs": [],
   "source": [
    "import pandas as pd\n",
    "import numpy as np\n",
    "import re"
   ]
  },
  {
   "cell_type": "code",
   "execution_count": 177,
   "metadata": {
    "collapsed": true
   },
   "outputs": [],
   "source": [
    "df = pd.read_csv(\"C:/Users/MSigappi/Documents/BDA/Sem 3/Operations Management/AI project/style_train.csv\")"
   ]
  },
  {
   "cell_type": "code",
   "execution_count": 178,
   "metadata": {
    "collapsed": true
   },
   "outputs": [],
   "source": [
    "df_rom = df[df.Style == 23]"
   ]
  },
  {
   "cell_type": "code",
   "execution_count": 179,
   "metadata": {},
   "outputs": [
    {
     "data": {
      "text/html": [
       "<div>\n",
       "<style>\n",
       "    .dataframe thead tr:only-child th {\n",
       "        text-align: right;\n",
       "    }\n",
       "\n",
       "    .dataframe thead th {\n",
       "        text-align: left;\n",
       "    }\n",
       "\n",
       "    .dataframe tbody tr th {\n",
       "        vertical-align: top;\n",
       "    }\n",
       "</style>\n",
       "<table border=\"1\" class=\"dataframe\">\n",
       "  <thead>\n",
       "    <tr style=\"text-align: right;\">\n",
       "      <th></th>\n",
       "      <th>Image</th>\n",
       "      <th>Style</th>\n",
       "    </tr>\n",
       "  </thead>\n",
       "  <tbody>\n",
       "    <tr>\n",
       "      <th>8</th>\n",
       "      <td>Romanticism/william-turner_pope-s-villa-at-twi...</td>\n",
       "      <td>23</td>\n",
       "    </tr>\n",
       "    <tr>\n",
       "      <th>18</th>\n",
       "      <td>Romanticism/taras-shevchenko_architectural-pro...</td>\n",
       "      <td>23</td>\n",
       "    </tr>\n",
       "    <tr>\n",
       "      <th>22</th>\n",
       "      <td>Romanticism/theodore-gericault_paysage-classiq...</td>\n",
       "      <td>23</td>\n",
       "    </tr>\n",
       "    <tr>\n",
       "      <th>49</th>\n",
       "      <td>Romanticism/francisco-goya_rise-and-fall-1799.jpg</td>\n",
       "      <td>23</td>\n",
       "    </tr>\n",
       "    <tr>\n",
       "      <th>61</th>\n",
       "      <td>Romanticism/orest-kiprensky_portrait-of-ekater...</td>\n",
       "      <td>23</td>\n",
       "    </tr>\n",
       "  </tbody>\n",
       "</table>\n",
       "</div>"
      ],
      "text/plain": [
       "                                                Image  Style\n",
       "8   Romanticism/william-turner_pope-s-villa-at-twi...     23\n",
       "18  Romanticism/taras-shevchenko_architectural-pro...     23\n",
       "22  Romanticism/theodore-gericault_paysage-classiq...     23\n",
       "49  Romanticism/francisco-goya_rise-and-fall-1799.jpg     23\n",
       "61  Romanticism/orest-kiprensky_portrait-of-ekater...     23"
      ]
     },
     "execution_count": 179,
     "metadata": {},
     "output_type": "execute_result"
    }
   ],
   "source": [
    "df_rom.head()"
   ]
  },
  {
   "cell_type": "code",
   "execution_count": 60,
   "metadata": {},
   "outputs": [
    {
     "name": "stdout",
     "output_type": "stream",
     "text": [
      "GAC\n"
     ]
    }
   ],
   "source": [
    "# Example regular expression\n",
    "s = \"abc123AUG|GAC|UGAasdfg789\"\n",
    "pattern = \"AUG\\|(.*?)\\|UGA\"\n",
    "\n",
    "substring = re.search(pattern, s).group(1)\n",
    "print(substring)"
   ]
  },
  {
   "cell_type": "code",
   "execution_count": 181,
   "metadata": {},
   "outputs": [],
   "source": [
    "pattern = \"\\/(.*?)\\.\"\n",
    "list_name_painting= []\n",
    "for i in df_rom[\"Image\"]:\n",
    "    substring= re.search(pattern,i).group(0)\n",
    "    substring= substring.replace('_','/')\n",
    "    list_name_painting.append(substring[:-1])\n",
    "    \n"
   ]
  },
  {
   "cell_type": "code",
   "execution_count": 182,
   "metadata": {
    "scrolled": true
   },
   "outputs": [
    {
     "name": "stdout",
     "output_type": "stream",
     "text": [
      "['/william-turner/pope-s-villa-at-twickenham', '/taras-shevchenko/architectural-project-of-private-house-facade-1860', '/theodore-gericault/paysage-classique-matin']\n"
     ]
    }
   ],
   "source": [
    "print(list_name_painting[0:3])"
   ]
  },
  {
   "cell_type": "code",
   "execution_count": 183,
   "metadata": {},
   "outputs": [],
   "source": [
    "url_list = []\n",
    "for j in list_name_painting:\n",
    "    string = \"https://www.wikiart.org/en\"+j\n",
    "    url_list.append(string) "
   ]
  },
  {
   "cell_type": "code",
   "execution_count": 185,
   "metadata": {},
   "outputs": [
    {
     "name": "stdout",
     "output_type": "stream",
     "text": [
      "https://www.wikiart.org/en/william-turner/pope-s-villa-at-twickenham\n"
     ]
    }
   ],
   "source": [
    "print(url_list[0])"
   ]
  },
  {
   "cell_type": "code",
   "execution_count": 186,
   "metadata": {},
   "outputs": [
    {
     "name": "stderr",
     "output_type": "stream",
     "text": [
      "C:\\Users\\MSigappi\\Anaconda3\\lib\\site-packages\\ipykernel_launcher.py:1: SettingWithCopyWarning: \n",
      "A value is trying to be set on a copy of a slice from a DataFrame.\n",
      "Try using .loc[row_indexer,col_indexer] = value instead\n",
      "\n",
      "See the caveats in the documentation: http://pandas.pydata.org/pandas-docs/stable/indexing.html#indexing-view-versus-copy\n",
      "  \"\"\"Entry point for launching an IPython kernel.\n"
     ]
    }
   ],
   "source": [
    "df_rom[\"URLs\"] = url_list"
   ]
  },
  {
   "cell_type": "code",
   "execution_count": 187,
   "metadata": {},
   "outputs": [
    {
     "data": {
      "text/html": [
       "<div>\n",
       "<style>\n",
       "    .dataframe thead tr:only-child th {\n",
       "        text-align: right;\n",
       "    }\n",
       "\n",
       "    .dataframe thead th {\n",
       "        text-align: left;\n",
       "    }\n",
       "\n",
       "    .dataframe tbody tr th {\n",
       "        vertical-align: top;\n",
       "    }\n",
       "</style>\n",
       "<table border=\"1\" class=\"dataframe\">\n",
       "  <thead>\n",
       "    <tr style=\"text-align: right;\">\n",
       "      <th></th>\n",
       "      <th>Image</th>\n",
       "      <th>Style</th>\n",
       "      <th>URLs</th>\n",
       "    </tr>\n",
       "  </thead>\n",
       "  <tbody>\n",
       "    <tr>\n",
       "      <th>8</th>\n",
       "      <td>Romanticism/william-turner_pope-s-villa-at-twi...</td>\n",
       "      <td>23</td>\n",
       "      <td>https://www.wikiart.org/en/william-turner/pope...</td>\n",
       "    </tr>\n",
       "    <tr>\n",
       "      <th>18</th>\n",
       "      <td>Romanticism/taras-shevchenko_architectural-pro...</td>\n",
       "      <td>23</td>\n",
       "      <td>https://www.wikiart.org/en/taras-shevchenko/ar...</td>\n",
       "    </tr>\n",
       "    <tr>\n",
       "      <th>22</th>\n",
       "      <td>Romanticism/theodore-gericault_paysage-classiq...</td>\n",
       "      <td>23</td>\n",
       "      <td>https://www.wikiart.org/en/theodore-gericault/...</td>\n",
       "    </tr>\n",
       "    <tr>\n",
       "      <th>49</th>\n",
       "      <td>Romanticism/francisco-goya_rise-and-fall-1799.jpg</td>\n",
       "      <td>23</td>\n",
       "      <td>https://www.wikiart.org/en/francisco-goya/rise...</td>\n",
       "    </tr>\n",
       "    <tr>\n",
       "      <th>61</th>\n",
       "      <td>Romanticism/orest-kiprensky_portrait-of-ekater...</td>\n",
       "      <td>23</td>\n",
       "      <td>https://www.wikiart.org/en/orest-kiprensky/por...</td>\n",
       "    </tr>\n",
       "  </tbody>\n",
       "</table>\n",
       "</div>"
      ],
      "text/plain": [
       "                                                Image  Style  \\\n",
       "8   Romanticism/william-turner_pope-s-villa-at-twi...     23   \n",
       "18  Romanticism/taras-shevchenko_architectural-pro...     23   \n",
       "22  Romanticism/theodore-gericault_paysage-classiq...     23   \n",
       "49  Romanticism/francisco-goya_rise-and-fall-1799.jpg     23   \n",
       "61  Romanticism/orest-kiprensky_portrait-of-ekater...     23   \n",
       "\n",
       "                                                 URLs  \n",
       "8   https://www.wikiart.org/en/william-turner/pope...  \n",
       "18  https://www.wikiart.org/en/taras-shevchenko/ar...  \n",
       "22  https://www.wikiart.org/en/theodore-gericault/...  \n",
       "49  https://www.wikiart.org/en/francisco-goya/rise...  \n",
       "61  https://www.wikiart.org/en/orest-kiprensky/por...  "
      ]
     },
     "execution_count": 187,
     "metadata": {},
     "output_type": "execute_result"
    }
   ],
   "source": [
    "df_rom.head()"
   ]
  },
  {
   "cell_type": "code",
   "execution_count": 188,
   "metadata": {},
   "outputs": [
    {
     "name": "stdout",
     "output_type": "stream",
     "text": [
      "\n",
      "<!DOCTYPE html>\n",
      "<html>\n",
      "<head>\n",
      "    <!-- Google Tag Manager -->\n",
      "    <script>\n",
      "    (function (w, d, s, l, i) {\n",
      "        w[l] = w[l] || []; w[l].push({\n",
      "            'gtm.start':\n",
      "                new Date().getTime(), event: 'gtm.js'\n",
      "        }); var f = d.getElementsByTagName(s)[0],\n",
      "            j = d.createElement(s), dl = l != 'dataLayer' ? '&l=' + l : ''; j.async = true; j.src =\n",
      "                'https://www.googletagmanager.com/gtm.js?id=' + i + dl; f.parentNode.insertBefore(j, f);\n",
      "        })(window, \n"
     ]
    }
   ],
   "source": [
    "# single url\n",
    "from requests import get\n",
    "url = 'https://www.wikiart.org/en/taras-shevchenko/architectural-project-of-private-house-facade-1860'\n",
    "response = get(url)\n",
    "print(response.text[:500])"
   ]
  },
  {
   "cell_type": "code",
   "execution_count": 189,
   "metadata": {},
   "outputs": [
    {
     "data": {
      "text/plain": [
       "bs4.BeautifulSoup"
      ]
     },
     "execution_count": 189,
     "metadata": {},
     "output_type": "execute_result"
    }
   ],
   "source": [
    "from bs4 import BeautifulSoup\n",
    "html_soup = BeautifulSoup(response.text, 'lxml')\n",
    "type(html_soup)"
   ]
  },
  {
   "cell_type": "code",
   "execution_count": 192,
   "metadata": {
    "scrolled": true
   },
   "outputs": [
    {
     "name": "stdout",
     "output_type": "stream",
     "text": [
      "<article ng-init=\"trackPageView('painting', '577283adedc2cb3880fb5a44')\">\n",
      " <h3>\n",
      "  Architectural project of private house. Main facade.\n",
      " </h3>\n",
      " <h5 itemprop=\"creator\" itemscope=\"\" itemtype=\"https://schema.org/Person\">\n",
      "  <span itemprop=\"name\">\n",
      "   <a href=\"/en/taras-shevchenko\" target=\"_self\">\n",
      "    Taras Shevchenko\n",
      "   </a>\n",
      "  </span>\n",
      "  <meta content=\"http://en.wikipedia.org/wiki/Taras_Shevchenko\" itemprop=\"sameAs\"/>\n",
      " </h5>\n",
      " <ul>\n",
      "  <script id=\"geographicalNotesPopup.html\" type=\"text/ng-template\">\n",
      "   <div class=\"loginFormContainer geo-notes-popup\">\n",
      "            <div class=\"modal-header\">\n",
      "                <div class=\"modal-header-title\" ng-if=\"!customMessage\">\n",
      "                    Geographical notesGeographical notes\n",
      "                </div>\n",
      "                <div class=\"modal-header-title\" ng-if=\"customMessage\">\n",
      "                    {{customMessage.title}}\n",
      "                </div>\n",
      "                <div class=\"modal-header-close\" ng-click=\"cancel()\">&#215</div>\n",
      "            </div>\n",
      "            <div class=\"modal-body\">\n",
      "                <div ng-if=\"!customMessage\" class=\"geo-notes-text\">Places are defined in terms of modern geography.</div>\n",
      "                <div ng-if=\"customMessage\" class=\"geo-notes-text\"><p style=\"line-height: 34px; padding: 0 20px;\">{{customMessage.body}}</p></div>\n",
      "            </div>\n",
      "        </div>\n",
      "  </script>\n",
      "  <li>\n",
      "   <s>\n",
      "    Date:\n",
      "   </s>\n",
      "   <span itemprop=\"dateCreated\">\n",
      "    1860\n",
      "   </span>\n",
      "  </li>\n",
      "  <li class=\"dictionary-values \">\n",
      "   <s>\n",
      "    Style:\n",
      "   </s>\n",
      "   <span>\n",
      "    <a href=\"/en/paintings-by-style/romanticism\" target=\"_self\">\n",
      "     Romanticism\n",
      "    </a>\n",
      "   </span>\n",
      "  </li>\n",
      "  <li class=\"dictionary-values \">\n",
      "   <s>\n",
      "    Genre:\n",
      "   </s>\n",
      "   <span>\n",
      "    <a href=\"/en/paintings-by-genre/design\" target=\"_self\">\n",
      "     <span itemprop=\"genre\">\n",
      "      design\n",
      "     </span>\n",
      "    </a>\n",
      "   </span>\n",
      "  </li>\n",
      "  <li class=\"dictionary-values \">\n",
      "   <s>\n",
      "    Media:\n",
      "   </s>\n",
      "   <span>\n",
      "    <a href=\"/en/paintings-by-media/watercolor\" target=\"_self\">\n",
      "     watercolor\n",
      "    </a>\n",
      "    <span>\n",
      "     ,\n",
      "    </span>\n",
      "    <a href=\"/en/paintings-by-media/paper\" target=\"_self\">\n",
      "     paper\n",
      "    </a>\n",
      "   </span>\n",
      "  </li>\n",
      "  <li>\n",
      "   <s class=\"title\">\n",
      "    Dimensions:\n",
      "   </s>\n",
      "   25.9 x 34.1 cm\n",
      "  </li>\n",
      "  <li class=\"order-reproduction\">\n",
      "   <a class=\"hidden-blank\" href=\"https://www.1st-art-gallery.com/\" ng-click=\"gaClick('order', 'order-click-page');\" target=\"_blank\">\n",
      "    <div class=\"order-reproduction-img-wrapper\">\n",
      "     <img alt=\"Buy Handmade Oil Painting Reproductions\" src=\"https://uploads.wikiart.org/Content/wiki/img/order@2x.png\"/>\n",
      "    </div>\n",
      "    <h6>\n",
      "     Order Oil Painting\n",
      "     <br/>\n",
      "     reproduction\n",
      "    </h6>\n",
      "   </a>\n",
      "  </li>\n",
      "  <li class=\"share\">\n",
      "   <s>\n",
      "    Share:\n",
      "   </s>\n",
      "   <a class=\"hidden-blank share-icon-fb\" href=\"https://www.facebook.com/sharer/sharer.php?u=https://www.wikiart.org/en/taras-shevchenko/architectural-project-of-private-house-facade-1860\" target=\"_blank\">\n",
      "    <i class=\"icon-facebook\">\n",
      "    </i>\n",
      "   </a>\n",
      "   <a class=\"hidden-blank share-icon-twitter\" href=\"https://twitter.com/intent/tweet?text=Architectural+project+of+private+house.+Main+facade.%2c+1860+-+Taras+Shevchenko&amp;via=wikipaintings&amp;url=https://www.wikiart.org/en/taras-shevchenko/architectural-project-of-private-house-facade-1860\" target=\"_blank\">\n",
      "    <i class=\"icon-twitter\">\n",
      "    </i>\n",
      "   </a>\n",
      "   <a class=\"hidden-blank share-icon-pinterest\" data-pin-custom=\"true\" href=\"https://www.pinterest.com/pin/create/button/?url=https://www.wikiart.org/en/taras-shevchenko/architectural-project-of-private-house-facade-1860&amp;media=https://uploads2.wikiart.org/images/taras-shevchenko/architectural-project-of-private-house-facade-1860.jpg!Large.jpg&amp;description=Architectural+project+of+private+house.+Main+facade.%2c+1860+-+Taras+Shevchenko\" target=\"_blank\">\n",
      "    <i class=\"icon-pinterest\">\n",
      "    </i>\n",
      "   </a>\n",
      "   <a class=\"hidden-blank share-icon-tumblr\" href=\"https://www.tumblr.com/widgets/share/tool?canonicalUrl=https://www.wikiart.org/en/taras-shevchenko/architectural-project-of-private-house-facade-1860\" target=\"_blank\">\n",
      "    <i class=\"icon-tumblr\">\n",
      "    </i>\n",
      "   </a>\n",
      "  </li>\n",
      " </ul>\n",
      "</article>\n",
      "\n"
     ]
    }
   ],
   "source": [
    "painting_container = html_soup.find('article')\n",
    "print(painting_container.prettify())\n"
   ]
  },
  {
   "cell_type": "code",
   "execution_count": 196,
   "metadata": {},
   "outputs": [
    {
     "name": "stdout",
     "output_type": "stream",
     "text": [
      "1860\n"
     ]
    }
   ],
   "source": [
    "yr= painting_container.li.span.text\n",
    "print(yr)"
   ]
  },
  {
   "cell_type": "code",
   "execution_count": 195,
   "metadata": {},
   "outputs": [],
   "source": [
    "# multiple urls\n",
    "year_list = []\n",
    "for url in url_list[0:50]:\n",
    "    try:\n",
    "        response = get(url)\n",
    "        soup = BeautifulSoup(response.text, 'lxml')\n",
    "        container = soup.find('article')\n",
    "        year = container.li.span.text\n",
    "        if '\\n' in year:\n",
    "            year_list.append(np.nan)\n",
    "        else:  \n",
    "            year_list.append(year)\n",
    "        \n",
    "    except:\n",
    "        try:\n",
    "            response = get(url)\n",
    "            soup = BeautifulSoup(response.text, 'lxml')\n",
    "            container = soup.find('article')\n",
    "            next_line = container.findAll('li')[1]\n",
    "            year = next_line.span.text\n",
    "            year_list.append(year)\n",
    "        except:\n",
    "            year_list.append(np.nan)\n",
    "        \n",
    "    "
   ]
  },
  {
   "cell_type": "code",
   "execution_count": 197,
   "metadata": {},
   "outputs": [
    {
     "data": {
      "text/plain": [
       "['1808',\n",
       " '1860',\n",
       " nan,\n",
       " '1799',\n",
       " '1815',\n",
       " '1814',\n",
       " '1867',\n",
       " '1834',\n",
       " '1866',\n",
       " '1872',\n",
       " '1845',\n",
       " '1863',\n",
       " '1881',\n",
       " '1855',\n",
       " '1893',\n",
       " '1822',\n",
       " '1856',\n",
       " '1831',\n",
       " '1820',\n",
       " '1874',\n",
       " '1913',\n",
       " '1818',\n",
       " nan,\n",
       " '1819',\n",
       " '\\nRomanticism\\n',\n",
       " nan,\n",
       " '1874',\n",
       " '1846',\n",
       " '1856',\n",
       " '1830',\n",
       " '1851',\n",
       " '1866',\n",
       " nan,\n",
       " '1823',\n",
       " '1850',\n",
       " '1880',\n",
       " nan,\n",
       " '1903',\n",
       " '1777',\n",
       " '1868',\n",
       " nan,\n",
       " '1799',\n",
       " nan,\n",
       " '1898',\n",
       " '1860',\n",
       " nan,\n",
       " '1878',\n",
       " '1871',\n",
       " '1764',\n",
       " '\\nRomanticism\\n']"
      ]
     },
     "execution_count": 197,
     "metadata": {},
     "output_type": "execute_result"
    }
   ],
   "source": [
    "year_list[0:50]"
   ]
  },
  {
   "cell_type": "code",
   "execution_count": 175,
   "metadata": {},
   "outputs": [
    {
     "data": {
      "text/plain": [
       "'https://www.wikiart.org/en/fyodor-solntsev/royal-and-nobleman-clothing-of-the-xvii-century'"
      ]
     },
     "execution_count": 175,
     "metadata": {},
     "output_type": "execute_result"
    }
   ],
   "source": [
    "url_list[24]"
   ]
  }
 ],
 "metadata": {
  "kernelspec": {
   "display_name": "Python 3",
   "language": "python",
   "name": "python3"
  },
  "language_info": {
   "codemirror_mode": {
    "name": "ipython",
    "version": 3
   },
   "file_extension": ".py",
   "mimetype": "text/x-python",
   "name": "python",
   "nbconvert_exporter": "python",
   "pygments_lexer": "ipython3",
   "version": "3.6.3"
  }
 },
 "nbformat": 4,
 "nbformat_minor": 2
}
